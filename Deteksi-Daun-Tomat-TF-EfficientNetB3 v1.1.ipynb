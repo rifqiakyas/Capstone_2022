{
 "cells": [
  {
   "cell_type": "code",
   "execution_count": 1,
   "id": "ee42d89e",
   "metadata": {},
   "outputs": [],
   "source": [
    "import pandas as pd\n",
    "import matplotlib.pyplot as plt\n",
    "import tensorflow as tf\n",
    "from tensorflow.keras.models import Sequential\n",
    "from tensorflow.keras.layers import Conv2D, MaxPooling2D, Flatten, Dense, Activation, Dropout, BatchNormalization\n",
    "from tensorflow.keras.preprocessing.image import ImageDataGenerator\n",
    "from tensorflow.keras.layers import Input\n",
    "from tensorflow.keras.applications import ResNet50\n",
    "from tensorflow.keras.applications import ResNet152V2\n",
    "import pathlib"
   ]
  },
  {
   "cell_type": "code",
   "execution_count": 2,
   "id": "57783738",
   "metadata": {},
   "outputs": [],
   "source": [
    "import os\n",
    "base_dir = 'C:\\Sem 5\\Studi Independen\\Machine Learning\\CapstoneProject\\Dataset'\n",
    "train_dir = os.path.join(base_dir, 'train')\n",
    "validation_dir = os.path.join(base_dir, 'val')"
   ]
  },
  {
   "cell_type": "code",
   "execution_count": 3,
   "id": "081365a3",
   "metadata": {},
   "outputs": [],
   "source": [
    "train_datagen = ImageDataGenerator(\n",
    "                    rescale=1./255,           # normalisasi data\n",
    "                    horizontal_flip=True,     # data dapat berputar balik secara horizontal                  \n",
    "                    ) \n",
    "test_datagen = ImageDataGenerator(\n",
    "                    rescale=1./255)"
   ]
  },
  {
   "cell_type": "code",
   "execution_count": 4,
   "id": "b7dd80cf",
   "metadata": {},
   "outputs": [
    {
     "name": "stdout",
     "output_type": "stream",
     "text": [
      "Found 25430 images belonging to 11 classes.\n",
      "Found 6363 images belonging to 11 classes.\n"
     ]
    }
   ],
   "source": [
    "train_generator = train_datagen.flow_from_directory(train_dir,\n",
    "                                                    batch_size=64,\n",
    "                                                    class_mode='categorical',\n",
    "                                                    target_size=(224, 224),\n",
    "                                                    color_mode= 'rgb', \n",
    "                                                    shuffle= True\n",
    "                                                    )\n",
    "test_generator = test_datagen.flow_from_directory(validation_dir,\n",
    "                                                  batch_size=64,\n",
    "                                                  class_mode='categorical',\n",
    "                                                  target_size=(224, 224),\n",
    "                                                  color_mode= 'rgb', \n",
    "                                                  shuffle= True\n",
    "                                                  )"
   ]
  },
  {
   "cell_type": "code",
   "execution_count": 5,
   "id": "13baeabd",
   "metadata": {},
   "outputs": [],
   "source": [
    "from PIL import ImageFile\n",
    "ImageFile.LOAD_TRUNCATED_IMAGES = True"
   ]
  },
  {
   "cell_type": "code",
   "execution_count": 6,
   "id": "d0a59b65",
   "metadata": {},
   "outputs": [],
   "source": [
    "base_model = tf.keras.applications.efficientnet.EfficientNetB3(include_top= False, \n",
    "                                                               weights= \"imagenet\", \n",
    "                                                               input_shape= (224, 224, 3), \n",
    "                                                               pooling= 'max')"
   ]
  },
  {
   "cell_type": "code",
   "execution_count": 10,
   "id": "60de2c01",
   "metadata": {},
   "outputs": [],
   "source": [
    "model = tf.keras.models.Sequential([\n",
    "    base_model,\n",
    "    tf.keras.layers.Dense(256, activation='relu'),\n",
    "    tf.keras.layers.Dropout(0.2),                                                # layer input untuk deep learning neural network \n",
    "    tf.keras.layers.Dense(11, activation= 'softmax')                                 # output layer 3 class\n",
    "])"
   ]
  },
  {
   "cell_type": "code",
   "execution_count": 11,
   "id": "6372d338",
   "metadata": {},
   "outputs": [
    {
     "name": "stdout",
     "output_type": "stream",
     "text": [
      "Model: \"sequential_3\"\n",
      "_________________________________________________________________\n",
      " Layer (type)                Output Shape              Param #   \n",
      "=================================================================\n",
      " efficientnetb3 (Functional)  (None, 1536)             10783535  \n",
      "                                                                 \n",
      " dense_6 (Dense)             (None, 256)               393472    \n",
      "                                                                 \n",
      " dropout_3 (Dropout)         (None, 256)               0         \n",
      "                                                                 \n",
      " dense_7 (Dense)             (None, 11)                2827      \n",
      "                                                                 \n",
      "=================================================================\n",
      "Total params: 11,179,834\n",
      "Trainable params: 11,092,531\n",
      "Non-trainable params: 87,303\n",
      "_________________________________________________________________\n"
     ]
    }
   ],
   "source": [
    "model.summary()"
   ]
  },
  {
   "cell_type": "code",
   "execution_count": 12,
   "id": "82cb0219",
   "metadata": {},
   "outputs": [],
   "source": [
    "model.compile(optimizer ='Adam', loss = 'categorical_crossentropy', metrics=['accuracy'])"
   ]
  },
  {
   "cell_type": "code",
   "execution_count": 13,
   "id": "cf1ee6dc",
   "metadata": {},
   "outputs": [],
   "source": [
    "class TestCallback(tf.keras.callbacks.Callback): \n",
    "    def on_epoch_end(self, epoch, logs={}): \n",
    "        if(logs.get('accuracy') > 0.92 and logs.get('val_accuracy') > 0.92):\n",
    "            print(\"\\nAkurasi telah mencapai >90%!\") \n",
    "            self.model.stop_training = True \n",
    "callbacks = TestCallback()"
   ]
  },
  {
   "cell_type": "code",
   "execution_count": 14,
   "id": "59cf213a",
   "metadata": {},
   "outputs": [
    {
     "name": "stdout",
     "output_type": "stream",
     "text": [
      "Epoch 1/25\n",
      "4/4 - 157s - loss: 8.5416 - accuracy: 0.1328 - val_loss: 2.8289 - val_accuracy: 0.0859 - 157s/epoch - 39s/step\n",
      "Epoch 2/25\n",
      "4/4 - 115s - loss: 3.5388 - accuracy: 0.2695 - val_loss: 2.7705 - val_accuracy: 0.0703 - 115s/epoch - 29s/step\n",
      "Epoch 3/25\n",
      "4/4 - 115s - loss: 1.9905 - accuracy: 0.3672 - val_loss: 2.7034 - val_accuracy: 0.0664 - 115s/epoch - 29s/step\n",
      "Epoch 4/25\n",
      "4/4 - 115s - loss: 1.6431 - accuracy: 0.4492 - val_loss: 2.6807 - val_accuracy: 0.0508 - 115s/epoch - 29s/step\n",
      "Epoch 5/25\n",
      "4/4 - 113s - loss: 1.4690 - accuracy: 0.4727 - val_loss: 2.5694 - val_accuracy: 0.0703 - 113s/epoch - 28s/step\n",
      "Epoch 6/25\n",
      "4/4 - 113s - loss: 1.1099 - accuracy: 0.6367 - val_loss: 2.6703 - val_accuracy: 0.0469 - 113s/epoch - 28s/step\n",
      "Epoch 7/25\n",
      "4/4 - 115s - loss: 1.1175 - accuracy: 0.6367 - val_loss: 2.6164 - val_accuracy: 0.0742 - 115s/epoch - 29s/step\n",
      "Epoch 8/25\n",
      "4/4 - 113s - loss: 0.8646 - accuracy: 0.7070 - val_loss: 2.5759 - val_accuracy: 0.0820 - 113s/epoch - 28s/step\n",
      "Epoch 9/25\n",
      "4/4 - 112s - loss: 0.8413 - accuracy: 0.7383 - val_loss: 2.5345 - val_accuracy: 0.0703 - 112s/epoch - 28s/step\n",
      "Epoch 10/25\n",
      "4/4 - 113s - loss: 0.8660 - accuracy: 0.7266 - val_loss: 2.5530 - val_accuracy: 0.0742 - 113s/epoch - 28s/step\n",
      "Epoch 11/25\n",
      "4/4 - 113s - loss: 0.8276 - accuracy: 0.7344 - val_loss: 2.4605 - val_accuracy: 0.1055 - 113s/epoch - 28s/step\n",
      "Epoch 12/25\n",
      "4/4 - 115s - loss: 0.6425 - accuracy: 0.7539 - val_loss: 2.4772 - val_accuracy: 0.1133 - 115s/epoch - 29s/step\n",
      "Epoch 13/25\n",
      "4/4 - 114s - loss: 0.6524 - accuracy: 0.7695 - val_loss: 2.5367 - val_accuracy: 0.1367 - 114s/epoch - 28s/step\n",
      "Epoch 14/25\n",
      "4/4 - 113s - loss: 0.5464 - accuracy: 0.8203 - val_loss: 2.5447 - val_accuracy: 0.0977 - 113s/epoch - 28s/step\n",
      "Epoch 15/25\n",
      "4/4 - 113s - loss: 0.6539 - accuracy: 0.7734 - val_loss: 2.4658 - val_accuracy: 0.0898 - 113s/epoch - 28s/step\n",
      "Epoch 16/25\n",
      "4/4 - 113s - loss: 0.5778 - accuracy: 0.7617 - val_loss: 2.4197 - val_accuracy: 0.1094 - 113s/epoch - 28s/step\n",
      "Epoch 17/25\n",
      "4/4 - 112s - loss: 0.5790 - accuracy: 0.8086 - val_loss: 2.4426 - val_accuracy: 0.0859 - 112s/epoch - 28s/step\n",
      "Epoch 18/25\n",
      "4/4 - 114s - loss: 0.5877 - accuracy: 0.8281 - val_loss: 2.3878 - val_accuracy: 0.0742 - 114s/epoch - 28s/step\n",
      "Epoch 19/25\n",
      "4/4 - 110s - loss: 0.4693 - accuracy: 0.8594 - val_loss: 2.4401 - val_accuracy: 0.0742 - 110s/epoch - 28s/step\n",
      "Epoch 20/25\n",
      "4/4 - 113s - loss: 0.5623 - accuracy: 0.8086 - val_loss: 2.5119 - val_accuracy: 0.0742 - 113s/epoch - 28s/step\n",
      "Epoch 21/25\n",
      "4/4 - 113s - loss: 0.4472 - accuracy: 0.8633 - val_loss: 2.6062 - val_accuracy: 0.0820 - 113s/epoch - 28s/step\n",
      "Epoch 22/25\n",
      "4/4 - 111s - loss: 0.4420 - accuracy: 0.8789 - val_loss: 2.5772 - val_accuracy: 0.1406 - 111s/epoch - 28s/step\n",
      "Epoch 23/25\n",
      "4/4 - 111s - loss: 0.4786 - accuracy: 0.8398 - val_loss: 2.6136 - val_accuracy: 0.1133 - 111s/epoch - 28s/step\n",
      "Epoch 24/25\n",
      "4/4 - 112s - loss: 0.4477 - accuracy: 0.8711 - val_loss: 2.6518 - val_accuracy: 0.1289 - 112s/epoch - 28s/step\n",
      "Epoch 25/25\n",
      "4/4 - 114s - loss: 0.4038 - accuracy: 0.8750 - val_loss: 2.7708 - val_accuracy: 0.1211 - 114s/epoch - 29s/step\n"
     ]
    }
   ],
   "source": [
    "history=model.fit(\n",
    "      train_generator,\n",
    "      steps_per_epoch=4,                    \n",
    "      epochs=25,                            \n",
    "      validation_data=test_generator,       \n",
    "      verbose=2,\n",
    "      validation_steps=4,             \n",
    "      callbacks = [callbacks]\n",
    "      )"
   ]
  },
  {
   "cell_type": "code",
   "execution_count": 12,
   "id": "cf424f14",
   "metadata": {},
   "outputs": [
    {
     "data": {
      "image/png": "[encoded data removed]",
      "text/plain": [
       "<Figure size 640x480 with 1 Axes>"
      ]
     },
     "metadata": {},
     "output_type": "display_data"
    }
   ],
   "source": [
    "import matplotlib.pyplot as plt\n",
    "\n",
    "plt.plot(history.history['accuracy'])\n",
    "plt.plot(history.history['val_accuracy'])\n",
    "plt.title('Accuracy Model')\n",
    "plt.ylabel('accuracy')\n",
    "plt.xlabel('epoch')\n",
    "plt.legend(['train', 'test'], loc='upper left')\n",
    "plt.show()"
   ]
  },
  {
   "cell_type": "code",
   "execution_count": null,
   "id": "c1e40d7f",
   "metadata": {},
   "outputs": [],
   "source": []
  }
 ],
 "metadata": {
  "kernelspec": {
   "display_name": "Python 3 (ipykernel)",
   "language": "python",
   "name": "python3"
  },
  "language_info": {
   "codemirror_mode": {
    "name": "ipython",
    "version": 3
   },
   "file_extension": ".py",
   "mimetype": "text/x-python",
   "name": "python",
   "nbconvert_exporter": "python",
   "pygments_lexer": "ipython3",
   "version": "3.9.13"
  }
 },
 "nbformat": 4,
 "nbformat_minor": 5
}
