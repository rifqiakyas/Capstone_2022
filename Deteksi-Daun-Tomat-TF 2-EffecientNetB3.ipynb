{
 "cells": [
  {
   "cell_type": "code",
   "execution_count": 1,
   "id": "ee42d89e",
   "metadata": {},
   "outputs": [],
   "source": [
    "import pandas as pd\n",
    "import matplotlib.pyplot as plt\n",
    "import tensorflow as tf\n",
    "from tensorflow.keras.models import Sequential\n",
    "from tensorflow.keras.layers import Conv2D, MaxPooling2D, Flatten, Dense, Activation, Dropout, BatchNormalization\n",
    "from tensorflow.keras.preprocessing.image import ImageDataGenerator\n",
    "from tensorflow.keras.layers import Input\n",
    "from tensorflow.keras.applications import ResNet50\n",
    "from tensorflow.keras.applications import ResNet152V2\n",
    "import pathlib"
   ]
  },
  {
   "cell_type": "code",
   "execution_count": 2,
   "id": "57783738",
   "metadata": {},
   "outputs": [],
   "source": [
    "import os\n",
    "base_dir = 'C:\\Sem 5\\Studi Independen\\Machine Learning\\CapstoneProject\\Dataset'\n",
    "train_dir = os.path.join(base_dir, 'train')\n",
    "validation_dir = os.path.join(base_dir, 'val')"
   ]
  },
  {
   "cell_type": "code",
   "execution_count": 3,
   "id": "081365a3",
   "metadata": {},
   "outputs": [],
   "source": [
    "train_datagen = ImageDataGenerator(\n",
    "                    rescale=1./255,           # normalisasi data\n",
    "                    horizontal_flip=True,     # data dapat berputar balik secara horizontal                  \n",
    "                    ) \n",
    "test_datagen = ImageDataGenerator(\n",
    "                    rescale=1./255)"
   ]
  },
  {
   "cell_type": "code",
   "execution_count": 4,
   "id": "b7dd80cf",
   "metadata": {},
   "outputs": [
    {
     "name": "stdout",
     "output_type": "stream",
     "text": [
      "Found 25430 images belonging to 11 classes.\n",
      "Found 6363 images belonging to 11 classes.\n"
     ]
    }
   ],
   "source": [
    "train_generator = train_datagen.flow_from_directory(train_dir,\n",
    "                                                    batch_size=64,\n",
    "                                                    class_mode='categorical',\n",
    "                                                    target_size=(224, 224),\n",
    "                                                    color_mode= 'rgb', \n",
    "                                                    shuffle= True\n",
    "                                                    )\n",
    "test_generator = test_datagen.flow_from_directory(validation_dir,\n",
    "                                                  batch_size=64,\n",
    "                                                  class_mode='categorical',\n",
    "                                                  target_size=(224, 224),\n",
    "                                                  color_mode= 'rgb', \n",
    "                                                  shuffle= True\n",
    "                                                  )"
   ]
  },
  {
   "cell_type": "code",
   "execution_count": 5,
   "id": "13baeabd",
   "metadata": {},
   "outputs": [
    {
     "name": "stdout",
     "output_type": "stream",
     "text": [
      "LIST OF CLASSES  ['Bacterial_spot', 'Early_blight', 'Late_blight', 'Leaf_Mold', 'Septoria_leaf_spot', 'Spider_mites Two-spotted_spider_mite', 'Target_Spot', 'Tomato_Yellow_Leaf_Curl_Virus', 'Tomato_mosaic_virus', 'healthy', 'powdery_mildew']\n",
      "CLASS DICTIONARY  {'Bacterial_spot': 0, 'Early_blight': 1, 'Late_blight': 2, 'Leaf_Mold': 3, 'Septoria_leaf_spot': 4, 'Spider_mites Two-spotted_spider_mite': 5, 'Target_Spot': 6, 'Tomato_Yellow_Leaf_Curl_Virus': 7, 'Tomato_mosaic_virus': 8, 'healthy': 9, 'powdery_mildew': 10}\n",
      "Number of classes =  11\n"
     ]
    }
   ],
   "source": [
    "class_dict=train_generator.class_indices\n",
    "classes=list(class_dict.keys())\n",
    "print ('LIST OF CLASSES ', classes)\n",
    "print ('CLASS DICTIONARY ',class_dict)\n",
    "number_of_classes=len(classes) # this is the number of neurons in your top layer of the model\n",
    "print ('Number of classes = ', number_of_classes)"
   ]
  },
  {
   "cell_type": "code",
   "execution_count": 6,
   "id": "d0a59b65",
   "metadata": {},
   "outputs": [
    {
     "name": "stdout",
     "output_type": "stream",
     "text": [
      "Downloading data from https://storage.googleapis.com/keras-applications/efficientnetb3_notop.h5\n",
      "43941136/43941136 [==============================] - 40s 1us/step\n"
     ]
    }
   ],
   "source": [
    "base_model = tf.keras.applications.efficientnet.EfficientNetB3(include_top= False, \n",
    "                                                               weights= \"imagenet\", \n",
    "                                                               input_shape= (224, 224, 3), \n",
    "                                                               pooling= 'max')"
   ]
  },
  {
   "cell_type": "code",
   "execution_count": 7,
   "id": "60de2c01",
   "metadata": {},
   "outputs": [],
   "source": [
    "model = tf.keras.models.Sequential([\n",
    "    base_model,\n",
    "    tf.keras.layers.Dense(256, activation='relu'),\n",
    "    tf.keras.layers.Dropout(0.2),                                                # layer input untuk deep learning neural network \n",
    "    tf.keras.layers.Dense(11, activation= 'softmax')                                 # output layer 3 class\n",
    "])"
   ]
  },
  {
   "cell_type": "code",
   "execution_count": 8,
   "id": "6372d338",
   "metadata": {},
   "outputs": [
    {
     "name": "stdout",
     "output_type": "stream",
     "text": [
      "Model: \"sequential\"\n",
      "_________________________________________________________________\n",
      " Layer (type)                Output Shape              Param #   \n",
      "=================================================================\n",
      " efficientnetb3 (Functional)  (None, 1536)             10783535  \n",
      "                                                                 \n",
      " dense (Dense)               (None, 256)               393472    \n",
      "                                                                 \n",
      " dropout (Dropout)           (None, 256)               0         \n",
      "                                                                 \n",
      " dense_1 (Dense)             (None, 11)                2827      \n",
      "                                                                 \n",
      "=================================================================\n",
      "Total params: 11,179,834\n",
      "Trainable params: 11,092,531\n",
      "Non-trainable params: 87,303\n",
      "_________________________________________________________________\n"
     ]
    }
   ],
   "source": [
    "model.summary()"
   ]
  },
  {
   "cell_type": "code",
   "execution_count": 9,
   "id": "82cb0219",
   "metadata": {},
   "outputs": [],
   "source": [
    "model.compile(optimizer ='Adam', loss = 'categorical_crossentropy', metrics=['accuracy'])"
   ]
  },
  {
   "cell_type": "code",
   "execution_count": 10,
   "id": "cf1ee6dc",
   "metadata": {},
   "outputs": [],
   "source": [
    "class TestCallback(tf.keras.callbacks.Callback): \n",
    "    def on_epoch_end(self, epoch, logs={}): \n",
    "        if(logs.get('accuracy') > 0.92 and logs.get('val_accuracy') > 0.92):\n",
    "            print(\"\\nAkurasi telah mencapai >90%!\") \n",
    "            self.model.stop_training = True \n",
    "callbacks = TestCallback()"
   ]
  },
  {
   "cell_type": "code",
   "execution_count": 11,
   "id": "59cf213a",
   "metadata": {},
   "outputs": [
    {
     "name": "stdout",
     "output_type": "stream",
     "text": [
      "Epoch 1/25\n",
      "4/4 - 85s - loss: 7.6968 - accuracy: 0.1680 - val_loss: 2.9929 - val_accuracy: 0.0703 - 85s/epoch - 21s/step\n",
      "Epoch 2/25\n",
      "4/4 - 61s - loss: 4.9168 - accuracy: 0.2852 - val_loss: 2.6402 - val_accuracy: 0.0664 - 61s/epoch - 15s/step\n",
      "Epoch 3/25\n",
      "4/4 - 61s - loss: 2.4621 - accuracy: 0.4648 - val_loss: 2.5698 - val_accuracy: 0.1328 - 61s/epoch - 15s/step\n",
      "Epoch 4/25\n",
      "4/4 - 64s - loss: 1.7142 - accuracy: 0.4648 - val_loss: 2.6870 - val_accuracy: 0.0977 - 64s/epoch - 16s/step\n",
      "Epoch 5/25\n",
      "4/4 - 71s - loss: 1.4456 - accuracy: 0.5625 - val_loss: 2.7950 - val_accuracy: 0.0938 - 71s/epoch - 18s/step\n",
      "Epoch 6/25\n",
      "4/4 - 69s - loss: 1.2817 - accuracy: 0.6055 - val_loss: 3.1345 - val_accuracy: 0.1094 - 69s/epoch - 17s/step\n",
      "Epoch 7/25\n",
      "4/4 - 65s - loss: 1.1106 - accuracy: 0.6289 - val_loss: 3.1031 - val_accuracy: 0.0977 - 65s/epoch - 16s/step\n",
      "Epoch 8/25\n",
      "4/4 - 66s - loss: 1.1444 - accuracy: 0.6367 - val_loss: 3.2278 - val_accuracy: 0.1172 - 66s/epoch - 16s/step\n",
      "Epoch 9/25\n",
      "4/4 - 71s - loss: 0.9346 - accuracy: 0.6836 - val_loss: 3.7622 - val_accuracy: 0.1094 - 71s/epoch - 18s/step\n",
      "Epoch 10/25\n",
      "4/4 - 70s - loss: 0.8990 - accuracy: 0.6953 - val_loss: 3.5935 - val_accuracy: 0.1172 - 70s/epoch - 17s/step\n",
      "Epoch 11/25\n",
      "4/4 - 67s - loss: 0.7711 - accuracy: 0.7578 - val_loss: 3.3382 - val_accuracy: 0.0547 - 67s/epoch - 17s/step\n",
      "Epoch 12/25\n",
      "4/4 - 64s - loss: 0.6695 - accuracy: 0.7656 - val_loss: 3.2312 - val_accuracy: 0.0586 - 64s/epoch - 16s/step\n",
      "Epoch 13/25\n",
      "4/4 - 68s - loss: 0.7469 - accuracy: 0.7500 - val_loss: 3.2200 - val_accuracy: 0.0820 - 68s/epoch - 17s/step\n",
      "Epoch 14/25\n",
      "4/4 - 68s - loss: 0.7679 - accuracy: 0.7383 - val_loss: 2.6937 - val_accuracy: 0.1211 - 68s/epoch - 17s/step\n",
      "Epoch 15/25\n",
      "4/4 - 65s - loss: 0.5943 - accuracy: 0.8047 - val_loss: 2.7233 - val_accuracy: 0.0312 - 65s/epoch - 16s/step\n",
      "Epoch 16/25\n",
      "4/4 - 69s - loss: 0.6712 - accuracy: 0.7930 - val_loss: 2.7731 - val_accuracy: 0.0586 - 69s/epoch - 17s/step\n",
      "Epoch 17/25\n",
      "4/4 - 69s - loss: 0.5962 - accuracy: 0.7969 - val_loss: 3.2009 - val_accuracy: 0.1250 - 69s/epoch - 17s/step\n",
      "Epoch 18/25\n",
      "4/4 - 69s - loss: 0.4964 - accuracy: 0.8438 - val_loss: 3.2388 - val_accuracy: 0.1055 - 69s/epoch - 17s/step\n",
      "Epoch 19/25\n",
      "4/4 - 71s - loss: 0.5679 - accuracy: 0.8320 - val_loss: 3.1236 - val_accuracy: 0.1172 - 71s/epoch - 18s/step\n",
      "Epoch 20/25\n",
      "4/4 - 68s - loss: 0.5135 - accuracy: 0.8125 - val_loss: 3.1980 - val_accuracy: 0.0898 - 68s/epoch - 17s/step\n",
      "Epoch 21/25\n",
      "4/4 - 64s - loss: 0.4724 - accuracy: 0.8281 - val_loss: 3.2754 - val_accuracy: 0.0586 - 64s/epoch - 16s/step\n",
      "Epoch 22/25\n",
      "4/4 - 66s - loss: 0.4246 - accuracy: 0.8477 - val_loss: 3.3419 - val_accuracy: 0.0352 - 66s/epoch - 17s/step\n",
      "Epoch 23/25\n",
      "4/4 - 65s - loss: 0.5157 - accuracy: 0.8594 - val_loss: 3.3691 - val_accuracy: 0.0469 - 65s/epoch - 16s/step\n",
      "Epoch 24/25\n",
      "4/4 - 66s - loss: 0.5199 - accuracy: 0.8359 - val_loss: 3.1199 - val_accuracy: 0.0586 - 66s/epoch - 16s/step\n",
      "Epoch 25/25\n",
      "4/4 - 67s - loss: 0.4903 - accuracy: 0.8477 - val_loss: 2.9719 - val_accuracy: 0.0469 - 67s/epoch - 17s/step\n"
     ]
    }
   ],
   "source": [
    "history=model.fit(\n",
    "      train_generator,\n",
    "      steps_per_epoch=4,                    \n",
    "      epochs=25,                            \n",
    "      validation_data=test_generator,       \n",
    "      verbose=2,\n",
    "      validation_steps=4,             \n",
    "      callbacks = [callbacks]\n",
    "      )"
   ]
  },
  {
   "cell_type": "code",
   "execution_count": 1,
   "id": "cf424f14",
   "metadata": {},
   "outputs": [
    {
     "ename": "NameError",
     "evalue": "name 'history' is not defined",
     "output_type": "error",
     "traceback": [
      "\u001b[1;31m---------------------------------------------------------------------------\u001b[0m",
      "\u001b[1;31mNameError\u001b[0m                                 Traceback (most recent call last)",
      "\u001b[1;32m~\\AppData\\Local\\Temp\\ipykernel_12836\\237433267.py\u001b[0m in \u001b[0;36m<module>\u001b[1;34m\u001b[0m\n\u001b[0;32m      1\u001b[0m \u001b[1;32mimport\u001b[0m \u001b[0mmatplotlib\u001b[0m\u001b[1;33m.\u001b[0m\u001b[0mpyplot\u001b[0m \u001b[1;32mas\u001b[0m \u001b[0mplt\u001b[0m\u001b[1;33m\u001b[0m\u001b[1;33m\u001b[0m\u001b[0m\n\u001b[0;32m      2\u001b[0m \u001b[1;33m\u001b[0m\u001b[0m\n\u001b[1;32m----> 3\u001b[1;33m \u001b[0mplt\u001b[0m\u001b[1;33m.\u001b[0m\u001b[0mplot\u001b[0m\u001b[1;33m(\u001b[0m\u001b[0mhistory\u001b[0m\u001b[1;33m.\u001b[0m\u001b[0mhistory\u001b[0m\u001b[1;33m[\u001b[0m\u001b[1;34m'accuracy'\u001b[0m\u001b[1;33m]\u001b[0m\u001b[1;33m)\u001b[0m\u001b[1;33m\u001b[0m\u001b[1;33m\u001b[0m\u001b[0m\n\u001b[0m\u001b[0;32m      4\u001b[0m \u001b[0mplt\u001b[0m\u001b[1;33m.\u001b[0m\u001b[0mplot\u001b[0m\u001b[1;33m(\u001b[0m\u001b[0mhistory\u001b[0m\u001b[1;33m.\u001b[0m\u001b[0mhistory\u001b[0m\u001b[1;33m[\u001b[0m\u001b[1;34m'val_accuracy'\u001b[0m\u001b[1;33m]\u001b[0m\u001b[1;33m)\u001b[0m\u001b[1;33m\u001b[0m\u001b[1;33m\u001b[0m\u001b[0m\n\u001b[0;32m      5\u001b[0m \u001b[0mplt\u001b[0m\u001b[1;33m.\u001b[0m\u001b[0mtitle\u001b[0m\u001b[1;33m(\u001b[0m\u001b[1;34m'Accuracy Model'\u001b[0m\u001b[1;33m)\u001b[0m\u001b[1;33m\u001b[0m\u001b[1;33m\u001b[0m\u001b[0m\n",
      "\u001b[1;31mNameError\u001b[0m: name 'history' is not defined"
     ]
    }
   ],
   "source": [
    "import matplotlib.pyplot as plt\n",
    "\n",
    "plt.plot(history.history['accuracy'])\n",
    "plt.plot(history.history['val_accuracy'])\n",
    "plt.title('Accuracy Model')\n",
    "plt.ylabel('accuracy')\n",
    "plt.xlabel('epoch')\n",
    "plt.legend(['train', 'test'], loc='upper left')\n",
    "plt.show()"
   ]
  },
  {
   "cell_type": "code",
   "execution_count": null,
   "id": "97bf0460",
   "metadata": {},
   "outputs": [],
   "source": []
  }
 ],
 "metadata": {
  "kernelspec": {
   "display_name": "Python 3 (ipykernel)",
   "language": "python",
   "name": "python3"
  },
  "language_info": {
   "codemirror_mode": {
    "name": "ipython",
    "version": 3
   },
   "file_extension": ".py",
   "mimetype": "text/x-python",
   "name": "python",
   "nbconvert_exporter": "python",
   "pygments_lexer": "ipython3",
   "version": "3.9.13"
  }
 },
 "nbformat": 4,
 "nbformat_minor": 5
}
